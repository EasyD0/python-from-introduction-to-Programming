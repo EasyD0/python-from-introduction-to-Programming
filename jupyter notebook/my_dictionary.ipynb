{
 "cells": [
  {
   "cell_type": "markdown",
   "id": "01e5a1d3",
   "metadata": {},
   "source": [
    "# 字典的学习"
   ]
  },
  {
   "cell_type": "markdown",
   "id": "cff6ade2",
   "metadata": {},
   "source": [
    "### 1.基本概念"
   ]
  },
  {
   "cell_type": "code",
   "execution_count": null,
   "id": "1414787f",
   "metadata": {},
   "outputs": [],
   "source": [
    "#字典就像平常的字典一样,有字,和它的释义. \n",
    "#索引部分一般是字符, 但\"释义\"可以是不同类型\n",
    "#json文件可以看作一个字典,它里面有嵌套的字典和列表\n",
    "#字典是没有顺序的\n",
    "\n",
    "#规范地说,前一部分叫\"键\", 后一部分是\"值\", 每一对称为\"键值对\"\n",
    "\n",
    "my_dic={\n",
    "    \"home\" : \"家\",\n",
    "    \"like\" : \"喜欢\",\n",
    "    \"mylist\" : [1,2,3],\n",
    "    \"my_mini_dic\" : {\"god\" : \"神\"},\n",
    "}\n",
    "\n",
    "#查阅字典\n",
    "print(my_dic[\"home\"])\n",
    "print(my_dic[\"mylist\"])\n",
    "print(my_dic[\"my_mini_dic\"])"
   ]
  },
  {
   "cell_type": "code",
   "execution_count": null,
   "id": "06eb2450",
   "metadata": {},
   "outputs": [],
   "source": [
    "#修改字典\n",
    "my_dic[\"like\"]=\"爱上\"\n",
    "\n",
    "#为字典添加条目\n",
    "my_dic[\"新的条目\"]=\"new_item\"\n",
    "print(my_dic)"
   ]
  },
  {
   "cell_type": "code",
   "execution_count": null,
   "id": "758850a1",
   "metadata": {},
   "outputs": [],
   "source": [
    "#删除某个条目\n",
    "del my_dic[\"home\"]\n",
    "print(my_dic)"
   ]
  },
  {
   "cell_type": "code",
   "execution_count": null,
   "id": "8f1c3103",
   "metadata": {
    "scrolled": true
   },
   "outputs": [],
   "source": [
    "#使用get()来查阅字典,添加一个默认参数,这样即使没有查到也不会出错,会返回第二个参数值\n",
    "output1=my_dic.get(\"home\", \"没有查到\")  #字典里若没有\"home\",会返回\"没有查到\"\n",
    "output2=my_dic.get(\"like\", \"没有查到\")\n",
    "print(output1)\n",
    "print(output2)"
   ]
  },
  {
   "cell_type": "markdown",
   "id": "e678c223",
   "metadata": {},
   "source": [
    "### 2.遍历字典"
   ]
  },
  {
   "cell_type": "code",
   "execution_count": 2,
   "id": "c1afb0e6",
   "metadata": {},
   "outputs": [
    {
     "name": "stdout",
     "output_type": "stream",
     "text": [
      "home 的意思是 家\n",
      "like 的意思是 喜欢\n",
      "take 的意思是 拿\n",
      "make 的意思是 做\n",
      "left 的意思是 左\n"
     ]
    }
   ],
   "source": [
    "mydic={\n",
    "    \"home\" : \"家\",\n",
    "    \"like\" : \"喜欢\",\n",
    "    \"take\" : \"拿\",\n",
    "    \"make\" : \"做\",\n",
    "    \"left\" : \"左\"\n",
    "}\n",
    "#运用items方法,遍历字典\n",
    "#方法items(),它返回一个键值对列表\n",
    "#\n",
    "for key,val in mydic.items() :  #这里将键值对列表,分别赋给了key 和 val\n",
    "    print(f\"{key} 的意思是 {val}\")"
   ]
  },
  {
   "cell_type": "code",
   "execution_count": 5,
   "id": "3e0deae5",
   "metadata": {},
   "outputs": [
    {
     "name": "stdout",
     "output_type": "stream",
     "text": [
      "dict_items([('home', '家'), ('like', '喜欢'), ('take', '拿'), ('make', '做'), ('left', '左')])\n"
     ]
    }
   ],
   "source": [
    "#深入探究items() 方法  \n",
    "#返回可看作一个列表,其中元素是二元元组\n",
    "print(mydic.items())"
   ]
  },
  {
   "cell_type": "code",
   "execution_count": null,
   "id": "f67a4e9a",
   "metadata": {},
   "outputs": [],
   "source": [
    "#这是一个列表, 每个元素是一个二元元组\n",
    "my_list_yuanzu=[(\"a1\",\"a2\"),(\"b1\",\"b2\"),(\"c1\",\"c2\")]\n",
    "\n",
    "#试试看能不能用for循环\n",
    "for key,val in my_list_yuanzu :\n",
    "    print(f\"{key} , {val}\")"
   ]
  },
  {
   "cell_type": "code",
   "execution_count": 10,
   "id": "7a40e887",
   "metadata": {},
   "outputs": [
    {
     "name": "stdout",
     "output_type": "stream",
     "text": [
      "home\n",
      "like\n",
      "take\n",
      "make\n",
      "left\n"
     ]
    }
   ],
   "source": [
    "#若只需要遍历 \"键\", 用items()也是可以的, 但用keys()更加方便\n",
    "for k in mydic.keys() :\n",
    "    print(k)"
   ]
  },
  {
   "cell_type": "code",
   "execution_count": 15,
   "id": "d31075ca",
   "metadata": {},
   "outputs": [
    {
     "name": "stdout",
     "output_type": "stream",
     "text": [
      "dict_keys(['home', 'like', 'take', 'make', 'left'])\n"
     ]
    }
   ],
   "source": [
    "#深入探究keys() 方法\n",
    "print(mydic.keys())"
   ]
  },
  {
   "cell_type": "code",
   "execution_count": 13,
   "id": "5ba8f6cb",
   "metadata": {},
   "outputs": [
    {
     "name": "stdout",
     "output_type": "stream",
     "text": [
      "a1 , a2\n",
      "b1 , b2\n",
      "c1 , c2\n"
     ]
    }
   ],
   "source": []
  },
  {
   "cell_type": "code",
   "execution_count": 22,
   "id": "12003976",
   "metadata": {},
   "outputs": [
    {
     "name": "stdout",
     "output_type": "stream",
     "text": [
      "home\n",
      "left\n",
      "like\n",
      "make\n",
      "take\n",
      "dict_keys(['home', 'like', 'take', 'make', 'left'])\n",
      "['home', 'left', 'like', 'make', 'take']\n"
     ]
    },
    {
     "ename": "AttributeError",
     "evalue": "'dict_keys' object has no attribute 'sort'",
     "output_type": "error",
     "traceback": [
      "\u001b[1;31m---------------------------------------------------------------------------\u001b[0m",
      "\u001b[1;31mAttributeError\u001b[0m                            Traceback (most recent call last)",
      "Input \u001b[1;32mIn [22]\u001b[0m, in \u001b[0;36m<cell line: 19>\u001b[1;34m()\u001b[0m\n\u001b[0;32m     16\u001b[0m \u001b[38;5;66;03m#先将它存储,依然不可以\u001b[39;00m\n\u001b[0;32m     17\u001b[0m \u001b[38;5;66;03m#因为mydic_keys根本上说,就不是列表, 无法使用类方法 .sort()\u001b[39;00m\n\u001b[0;32m     18\u001b[0m mydic_keys\u001b[38;5;241m=\u001b[39mmydic\u001b[38;5;241m.\u001b[39mkeys()\n\u001b[1;32m---> 19\u001b[0m \u001b[43mmydic_keys\u001b[49m\u001b[38;5;241;43m.\u001b[39;49m\u001b[43msort\u001b[49m()\n",
      "\u001b[1;31mAttributeError\u001b[0m: 'dict_keys' object has no attribute 'sort'"
     ]
    }
   ],
   "source": [
    "#用sorted(), 按顺序遍历键,\n",
    "#这里不能用mydic.key().sort(),因为mydic.key()没有被存储,\n",
    "#.sort()只是一个操作,没有返回值\n",
    "mydic={\n",
    "    \"home\" : \"家\",\n",
    "    \"like\" : \"喜欢\",\n",
    "    \"take\" : \"拿\",\n",
    "    \"make\" : \"做\",\n",
    "    \"left\" : \"左\"\n",
    "}\n",
    "for key in sorted(mydic.keys()):\n",
    "    print(key)\n",
    "\n",
    "print(mydic.keys())\n",
    "#虽然 mydic.keys() 不是列表,但是经过 sorted() 排序后,返回的是一个列表\n",
    "print(sorted(mydic.keys()))\n",
    "\n",
    "#先将它存储,依然不可以\n",
    "#因为mydic_keys根本上说, 就不是列表, 无法使用类方法 .sort()\n",
    "mydic_keys=mydic.keys()\n",
    "mydic_keys.sort()  #这将会出错"
   ]
  },
  {
   "cell_type": "code",
   "execution_count": 23,
   "id": "8a9a76cf",
   "metadata": {},
   "outputs": [
    {
     "name": "stdout",
     "output_type": "stream",
     "text": [
      "家\n",
      "喜欢\n",
      "拿\n",
      "做\n",
      "左\n"
     ]
    }
   ],
   "source": [
    "#遍历字典中的 \"值\" ,类似的有 values()方法, 同样可用sorted()\n",
    "for val in mydic.values():\n",
    "    print(val)\n"
   ]
  },
  {
   "cell_type": "code",
   "execution_count": 28,
   "id": "421745b3",
   "metadata": {},
   "outputs": [
    {
     "name": "stdout",
     "output_type": "stream",
     "text": [
      "1\n",
      "2\n",
      "{1, 2}\n"
     ]
    }
   ],
   "source": [
    "#使用set() ,可以剔除重复的元素\n",
    "#set是集合的意思,将列表转成一个集合,集合元素是独一无二的\n",
    "#在遍历字典时,可结合使用set() 来剔除重复的值\n",
    "mydic={\n",
    "    \"one\":1 ,\n",
    "    \"two\":2 ,\n",
    "    \"too\":2\n",
    "}\n",
    "for val in set(  mydic.values()  ):\n",
    "    print(val)\n",
    "\n",
    "print(set(  mydic.values()  ))"
   ]
  },
  {
   "cell_type": "code",
   "execution_count": 29,
   "id": "e2c6ef5c",
   "metadata": {},
   "outputs": [
    {
     "name": "stdout",
     "output_type": "stream",
     "text": [
      "{1, 2, 3}\n"
     ]
    }
   ],
   "source": [
    "#集合不会有重复的元素,即使在定义的时候有,但不会存储重复的\n",
    "myset={1,2,3,2}\n",
    "print(myset)"
   ]
  },
  {
   "cell_type": "code",
   "execution_count": 33,
   "id": "9d9f1f63",
   "metadata": {},
   "outputs": [
    {
     "name": "stdout",
     "output_type": "stream",
     "text": [
      "[{'name': '老王', 'age': 16}, {'name': '刘芒', 'age': 17}, {'name': '莎比', 'age': 15}, {'name': '新手', 'age': 15}]\n"
     ]
    }
   ],
   "source": [
    "#列表和字典都可以相互嵌套\n",
    "student_list=[\n",
    "    {\n",
    "        \"name\":\"老王\",\n",
    "        \"age\":16\n",
    "    },\n",
    "    {\n",
    "        \"name\":\"刘芒\",\n",
    "        \"age\":17\n",
    "    },\n",
    "    {\n",
    "        \"name\":\"莎比\",\n",
    "        \"age\":15\n",
    "    }\n",
    "]\n",
    "student_list.append({\"name\":\"新手\",\"age\":15})\n",
    "print(student_list)"
   ]
  },
  {
   "cell_type": "code",
   "execution_count": null,
   "id": "0ba5e49d",
   "metadata": {},
   "outputs": [],
   "source": []
  }
 ],
 "metadata": {
  "kernelspec": {
   "display_name": "Python 3.9.12 ('base')",
   "language": "python",
   "name": "python3"
  },
  "language_info": {
   "codemirror_mode": {
    "name": "ipython",
    "version": 3
   },
   "file_extension": ".py",
   "mimetype": "text/x-python",
   "name": "python",
   "nbconvert_exporter": "python",
   "pygments_lexer": "ipython3",
   "version": "3.9.12"
  },
  "vscode": {
   "interpreter": {
    "hash": "b09ec625f77bf4fd762565a912b97636504ad6ec901eb2d0f4cf5a7de23e1ee5"
   }
  }
 },
 "nbformat": 4,
 "nbformat_minor": 5
}
