{
 "cells": [
  {
   "cell_type": "markdown",
   "id": "a8e4b4bf",
   "metadata": {},
   "source": [
    "# if语句的学习"
   ]
  },
  {
   "cell_type": "code",
   "execution_count": 4,
   "id": "1a8af296",
   "metadata": {},
   "outputs": [
    {
     "name": "stdout",
     "output_type": "stream",
     "text": [
      "幼儿\n",
      "儿童\n",
      "成年\n"
     ]
    }
   ],
   "source": [
    "#基本if语句\n",
    "#除了用and ,还可以用or来检查多个条件\n",
    "def myage(age):\n",
    "    #基本if语句\n",
    "    if age < 6 and age > 0 :\n",
    "        print(\"幼儿\")\n",
    "    elif age > 6 and age <18 :\n",
    "        print(\"儿童\")\n",
    "    else:\n",
    "        print(\"成年\")\n",
    "myage(5)\n",
    "myage(12)\n",
    "myage(25)"
   ]
  },
  {
   "cell_type": "code",
   "execution_count": 5,
   "id": "4d7ed955",
   "metadata": {},
   "outputs": [
    {
     "data": {
      "text/plain": [
       "False"
      ]
     },
     "execution_count": 5,
     "metadata": {},
     "output_type": "execute_result"
    }
   ],
   "source": [
    "myname=\"acd\"\n",
    "yourname=\"nca\"\n",
    "myname==yourname"
   ]
  },
  {
   "cell_type": "code",
   "execution_count": 6,
   "id": "bc8057f7",
   "metadata": {},
   "outputs": [
    {
     "name": "stdout",
     "output_type": "stream",
     "text": [
      "我有列表中的cpu\n",
      "你没有这样的cpu\n"
     ]
    }
   ],
   "source": [
    "#检查是否在列表中,in 和 not in\n",
    "cpu_list=[\"i5\",\"i7\",\"i9\",\"R5\"]\n",
    "mycup=\"i9\"\n",
    "yourcup=\"i3\"\n",
    "\n",
    "if mycup in cpu_list:\n",
    "    print(\"我有列表中的cpu\")\n",
    "if yourcup not in cpu_list:\n",
    "    print(\"你没有这样的cpu\")"
   ]
  },
  {
   "cell_type": "code",
   "execution_count": 9,
   "id": "8b8ee92b",
   "metadata": {},
   "outputs": [
    {
     "name": "stdout",
     "output_type": "stream",
     "text": [
      "1\n",
      "2\n",
      "4\n"
     ]
    }
   ],
   "source": [
    "my_list=[1,2,3,4]\n",
    "for number in my_list :\n",
    "    if number != 3:\n",
    "        print(number)"
   ]
  },
  {
   "cell_type": "code",
   "execution_count": null,
   "id": "63a4ac60",
   "metadata": {},
   "outputs": [],
   "source": []
  }
 ],
 "metadata": {
  "kernelspec": {
   "display_name": "Python 3 (ipykernel)",
   "language": "python",
   "name": "python3"
  },
  "language_info": {
   "codemirror_mode": {
    "name": "ipython",
    "version": 3
   },
   "file_extension": ".py",
   "mimetype": "text/x-python",
   "name": "python",
   "nbconvert_exporter": "python",
   "pygments_lexer": "ipython3",
   "version": "3.9.12"
  }
 },
 "nbformat": 4,
 "nbformat_minor": 5
}
