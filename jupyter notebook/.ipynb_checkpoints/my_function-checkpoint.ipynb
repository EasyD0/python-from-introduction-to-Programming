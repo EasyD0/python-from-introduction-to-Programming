{
 "cells": [
  {
   "cell_type": "markdown",
   "id": "252fba9c",
   "metadata": {},
   "source": [
    "# 介绍函数"
   ]
  },
  {
   "cell_type": "markdown",
   "id": "e06e2a12",
   "metadata": {},
   "source": [
    "### 1.基本\n",
    "\n",
    "一个基本的函数如下"
   ]
  },
  {
   "cell_type": "code",
   "execution_count": 2,
   "id": "bd50ddf2",
   "metadata": {},
   "outputs": [
    {
     "name": "stdout",
     "output_type": "stream",
     "text": [
      "4\n"
     ]
    }
   ],
   "source": [
    "def my_f(x) :\n",
    "    return x**2\n",
    "\n",
    "print(my_f(2))"
   ]
  },
  {
   "cell_type": "markdown",
   "id": "572ace85",
   "metadata": {},
   "source": [
    "调用函数的时候,注意传入参数位置,如果用关键字,则可忽略位置"
   ]
  },
  {
   "cell_type": "code",
   "execution_count": 3,
   "id": "9a9d96fc",
   "metadata": {},
   "outputs": [
    {
     "name": "stdout",
     "output_type": "stream",
     "text": [
      "5.0\n"
     ]
    }
   ],
   "source": [
    "def my_f(beichushu,chushu) :\n",
    "    return beichushu/chushu\n",
    "shang=my_f(chushu=2,beichushu=10)  #调用的时候使用了关键字\n",
    "print(shang)"
   ]
  },
  {
   "cell_type": "markdown",
   "id": "76a8ab7d",
   "metadata": {},
   "source": [
    "编写函数时,可以给定默认值,调用的时候如果省略,则使用默认值\n",
    "\n",
    "有默认值的参数,必须在后面,否则出错"
   ]
  },
  {
   "cell_type": "code",
   "execution_count": 6,
   "id": "d65c0ece",
   "metadata": {},
   "outputs": [
    {
     "name": "stdout",
     "output_type": "stream",
     "text": [
      "5.0\n"
     ]
    }
   ],
   "source": [
    "def my_f(beichushu,chushu=2) :\n",
    "    return beichushu/chushu\n",
    "half=my_f(10)\n",
    "print(half)"
   ]
  },
  {
   "cell_type": "code",
   "execution_count": 9,
   "id": "5cbae389",
   "metadata": {},
   "outputs": [
    {
     "name": "stdout",
     "output_type": "stream",
     "text": [
      "14\n",
      "21\n",
      "9\n"
     ]
    }
   ],
   "source": [
    "#如果有多个默认值,则可以省略部分,按顺序入座\n",
    "def my_f(a,b=3,c=2) :\n",
    "    return a+b**c\n",
    "print(my_f(5))\n",
    "print(my_f(5,4))\n",
    "print(my_f(5,4,1))"
   ]
  },
  {
   "cell_type": "markdown",
   "id": "42de8422",
   "metadata": {},
   "source": [
    "### 2.传递列表"
   ]
  },
  {
   "cell_type": "code",
   "execution_count": 14,
   "id": "2616d70e",
   "metadata": {},
   "outputs": [
    {
     "name": "stdout",
     "output_type": "stream",
     "text": [
      "2.5\n"
     ]
    }
   ],
   "source": [
    "def my_ave(num_list) :  #求列表的平均值\n",
    "    l=len(num_list)\n",
    "    list_average=0\n",
    "    for k in num_list :\n",
    "        list_average+=(k/l)\n",
    "    return list_average\n",
    "\n",
    "mylist=[1,2,3,4]\n",
    "print(my_ave(mylist))"
   ]
  },
  {
   "cell_type": "code",
   "execution_count": 17,
   "id": "bf55b534",
   "metadata": {},
   "outputs": [
    {
     "name": "stdout",
     "output_type": "stream",
     "text": [
      "[1, 2, 3]\n"
     ]
    }
   ],
   "source": [
    "def my_pop(x_list) :\n",
    "    x_list.pop()\n",
    "\n",
    "mylist=[1,2,3,4]\n",
    "my_pop(mylist)\n",
    "print(mylist)"
   ]
  },
  {
   "cell_type": "markdown",
   "id": "b1a6bb0c",
   "metadata": {},
   "source": [
    "上面的做法,会改变传入的列表;\n",
    "\n",
    "有时候不想改变原来的列表,只是想用里面的数据,可以用切片代替"
   ]
  },
  {
   "cell_type": "code",
   "execution_count": 18,
   "id": "baa8ba9d",
   "metadata": {},
   "outputs": [
    {
     "name": "stdout",
     "output_type": "stream",
     "text": [
      "[1, 2, 3, 4]\n"
     ]
    }
   ],
   "source": [
    "mylist=[1,2,3,4]\n",
    "my_pop(mylist[:])    #传入了整个切片,切片弹出了元素,但原来列表没变\n",
    "print(mylist)"
   ]
  },
  {
   "cell_type": "markdown",
   "id": "5b9f3fdd",
   "metadata": {},
   "source": [
    "### 3.传递任意数量的实际参数"
   ]
  },
  {
   "cell_type": "code",
   "execution_count": 20,
   "id": "caa4aa46",
   "metadata": {},
   "outputs": [
    {
     "name": "stdout",
     "output_type": "stream",
     "text": [
      "0\n",
      "6\n"
     ]
    }
   ],
   "source": [
    "#对一些数求和的函数,具体有多少个不确定\n",
    "def my_sum(*num) :    #加上*, 表示可以传递任意数量的参数\n",
    "    summary=0\n",
    "    for n in num :\n",
    "        summary+=n\n",
    "    return summary\n",
    "print( my_sum() )     #可以传递0个\n",
    "print( my_sum(1,2,3) ) "
   ]
  },
  {
   "cell_type": "code",
   "execution_count": 27,
   "id": "3ce54535",
   "metadata": {},
   "outputs": [
    {
     "name": "stdout",
     "output_type": "stream",
     "text": [
      "1\n",
      "7\n",
      "4\n"
     ]
    }
   ],
   "source": [
    "#和之前的知识结合\n",
    "def my_f(a,b=5,*c) :\n",
    "    summary=0\n",
    "    for n in c :\n",
    "        summary+=n\n",
    "    return a-b+summary\n",
    "print( my_f(1,7,2,5) ) #a=1; b=7; c=2,5\n",
    "\n",
    "def my_f(a,*c,b=5) :  #位置可以调换,但是这样b可能不被赋值,会赋给c\n",
    "    summary=0\n",
    "    for n in c :\n",
    "        summary+=n\n",
    "    return a-b+summary\n",
    "\n",
    "print( my_f(1,2,5,4) ) #a=1; c=2,5,4  而b用的是默认\n",
    "print(my_f(1,2,5,b=4)) #采用关键字的办法,给b赋值了\n",
    "\n",
    "#因此一般地,带*号的参数写在最后,有默认值的写在靠后"
   ]
  },
  {
   "cell_type": "markdown",
   "id": "02913aaf",
   "metadata": {},
   "source": [
    "### 4.使用任意数量的关键字实参"
   ]
  },
  {
   "cell_type": "code",
   "execution_count": 33,
   "id": "dc8b4b49",
   "metadata": {},
   "outputs": [
    {
     "name": "stdout",
     "output_type": "stream",
     "text": [
      "{'GPA': 4, 'level': 12, 'name': '张三', 'age': 16}\n"
     ]
    }
   ],
   "source": [
    "def stu_info(name,age,**stuinfo):  #会生成一个stuinfo 的字典,\n",
    "    stuinfo[\"name\"] = name\n",
    "    stuinfo[\"age\"] = age\n",
    "    return stuinfo\n",
    "\n",
    "#GPA=4 会保存到stuinfo 字典中,形式为 \"GPA\"=4,在调用时,键不要加引号\n",
    "print(stu_info(\"张三\", 16 , GPA=4,level=12))  "
   ]
  },
  {
   "cell_type": "code",
   "execution_count": 37,
   "id": "414e9da4",
   "metadata": {},
   "outputs": [
    {
     "name": "stdout",
     "output_type": "stream",
     "text": [
      "学分\n",
      "125\n",
      "name\n",
      "张三\n",
      "age\n",
      "18\n"
     ]
    }
   ],
   "source": [
    "#另一个例子\n",
    "def stu_info2(name,age,**stuinfo):\n",
    "    stuinfo[\"name\"] = name\n",
    "    stuinfo[\"age\"] = age\n",
    "    for key,val in stuinfo.items():\n",
    "        print(key)\n",
    "        print(val)\n",
    "stu_info2(\"张三\",18,学分=125)"
   ]
  },
  {
   "cell_type": "markdown",
   "id": "959a7afb",
   "metadata": {},
   "source": [
    "### 5.模块中的函数"
   ]
  },
  {
   "cell_type": "code",
   "execution_count": null,
   "id": "6763ebeb",
   "metadata": {},
   "outputs": [],
   "source": [
    "#导入一个模块\n",
    "import module_name\n",
    "\n",
    "#导入模块,并起别名\n",
    "import module_name as mn\n",
    "\n",
    "#调用某个模块中的函数\n",
    "module_name.function1()\n",
    "\n",
    "#导入特定的函数\n",
    "from module_name import function1,function2,...\n",
    "#导入特定函数,并起别名\n",
    "from module_name import function1,function2 as f1,f2\n",
    "\n",
    "#导入特定函数后,可以直接调用,而不用加模块名\n",
    "function1()\n",
    "function2()\n",
    "\n",
    "#导入模块中所有的函数\n",
    "#这么做和直接导入模块是有区别的,有些变量可能没有导入,而且调用时不需要加模块名\n",
    "from module_name import *\n",
    "\n",
    "\n"
   ]
  }
 ],
 "metadata": {
  "kernelspec": {
   "display_name": "Python 3 (ipykernel)",
   "language": "python",
   "name": "python3"
  },
  "language_info": {
   "codemirror_mode": {
    "name": "ipython",
    "version": 3
   },
   "file_extension": ".py",
   "mimetype": "text/x-python",
   "name": "python",
   "nbconvert_exporter": "python",
   "pygments_lexer": "ipython3",
   "version": "3.9.12"
  }
 },
 "nbformat": 4,
 "nbformat_minor": 5
}
