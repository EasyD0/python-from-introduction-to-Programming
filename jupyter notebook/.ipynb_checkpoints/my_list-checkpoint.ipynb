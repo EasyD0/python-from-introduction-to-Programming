{
 "cells": [
  {
   "cell_type": "markdown",
   "id": "ee8d4bda",
   "metadata": {},
   "source": [
    "# 这是列表list的学习,另外附加了元组"
   ]
  },
  {
   "cell_type": "markdown",
   "id": "a4557d24",
   "metadata": {},
   "source": [
    "### 1.列表基本"
   ]
  },
  {
   "cell_type": "code",
   "execution_count": null,
   "id": "c5fcdb87",
   "metadata": {},
   "outputs": [],
   "source": [
    "#一个普通的列表如下\n",
    "mylist= ['abc', 'ef', 6, 'haha']\n",
    "print(mylist)\n",
    "print(mylist[0])"
   ]
  },
  {
   "cell_type": "code",
   "execution_count": 2,
   "id": "e332c4a8",
   "metadata": {},
   "outputs": [
    {
     "name": "stdout",
     "output_type": "stream",
     "text": [
      "haha\n",
      "6\n"
     ]
    }
   ],
   "source": [
    "#可以用负数指标访问倒数的\n",
    "print(mylist[-1])\n",
    "print(mylist[-2])"
   ]
  },
  {
   "cell_type": "code",
   "execution_count": 3,
   "id": "baec3747",
   "metadata": {},
   "outputs": [
    {
     "name": "stdout",
     "output_type": "stream",
     "text": [
      "[1, '插入的元素', 6, 'haha', '添加的元素']\n"
     ]
    }
   ],
   "source": [
    "#修改列表\n",
    "mylist[0]=1\n",
    "\n",
    "#append() 在末尾添加元素,入栈\n",
    "mylist.append(\"添加的元素\")\n",
    "\n",
    "#在某个位置插入元素，后面的元素全部后移\n",
    "mylist.insert(1,\"插入的元素\")\n",
    "\n",
    "#删除某个位置的元素\n",
    "del mylist[2]\n",
    "print(mylist)"
   ]
  },
  {
   "cell_type": "code",
   "execution_count": 4,
   "id": "1e216678",
   "metadata": {},
   "outputs": [
    {
     "name": "stdout",
     "output_type": "stream",
     "text": [
      "弹出了\"添加的元素\"\n",
      "[1, '插入的元素', 6, 'haha']\n",
      "['插入的元素', 6, 'haha']\n"
     ]
    }
   ],
   "source": [
    "#使用方法pop() 弹出元素,pop()会返回弹出的元素,同时在列表中删除元素\n",
    "#pop()默认弹出列表末尾的元素,就像堆栈的出栈一样\n",
    "TanChu=mylist.pop()\n",
    "print(f\"弹出了\\\"{TanChu}\\\"\")\n",
    "print(mylist)\n",
    "\n",
    "#pop()也可以指定弹出的索引\n",
    "mylist2=[\"a\",\"b\",\"c\"]\n",
    "mylist2.pop(0)\n",
    "print(mylist2)"
   ]
  },
  {
   "cell_type": "code",
   "execution_count": 7,
   "id": "8c0d0151",
   "metadata": {},
   "outputs": [
    {
     "name": "stdout",
     "output_type": "stream",
     "text": [
      "[1, 4, 3, 4, 5]\n",
      "[1, 3, 4, 5]\n"
     ]
    }
   ],
   "source": [
    "#删除某个值\n",
    "mylist3=[1,2,4,3,4,5]\n",
    "\n",
    "#删除list中的2\n",
    "mylist3.remove(2)\n",
    "print(mylist3)\n",
    "\n",
    "#如果这个值有很多个,那么删除出现的第一个4\n",
    "mylist3.remove(4)\n",
    "print(mylist3)"
   ]
  },
  {
   "cell_type": "markdown",
   "id": "059a8bb6",
   "metadata": {},
   "source": [
    "### 2.组织列表"
   ]
  },
  {
   "cell_type": "code",
   "execution_count": 9,
   "id": "a435f4e9",
   "metadata": {},
   "outputs": [
    {
     "name": "stdout",
     "output_type": "stream",
     "text": [
      "['ace', 'before', 'home', 'like']\n",
      "['like', 'home', 'before', 'ace']\n"
     ]
    }
   ],
   "source": [
    "#用sort()对列表永久顺序排序\n",
    "mylist=[\"home\",\"like\",\"ace\",\"before\"]\n",
    "mylist.sort()\n",
    "print(mylist)\n",
    "\n",
    "#倒序排列\n",
    "mylist.sort(reverse=True)\n",
    "print(mylist)"
   ]
  },
  {
   "cell_type": "code",
   "execution_count": 16,
   "id": "561c5b32",
   "metadata": {},
   "outputs": [
    {
     "name": "stdout",
     "output_type": "stream",
     "text": [
      "['ace', 'before', 'home', 'like']\n",
      "原来的列表是\n",
      "['home', 'like', 'ace', 'before']\n",
      "['like', 'home', 'before', 'ace']\n"
     ]
    }
   ],
   "source": [
    "#使用函数sorted() 对列表临时排序,该函数不是类方法,其不改变传入的参数\n",
    "mylist=[\"home\",\"like\",\"ace\",\"before\"]\n",
    "print(sorted(mylist))\n",
    "print(sorted(mylist,reverse=True))\n",
    "print(f\"原来的列表是\\n{mylist}\")\n"
   ]
  },
  {
   "cell_type": "code",
   "execution_count": 17,
   "id": "03130eff",
   "metadata": {},
   "outputs": [
    {
     "name": "stdout",
     "output_type": "stream",
     "text": [
      "[3, 2, 1]\n"
     ]
    }
   ],
   "source": [
    "#翻转列表\n",
    "mylist=[1,2,3]\n",
    "mylist.reverse()\n",
    "print(mylist)"
   ]
  },
  {
   "cell_type": "code",
   "execution_count": 19,
   "id": "f3a2ab43",
   "metadata": {},
   "outputs": [
    {
     "name": "stdout",
     "output_type": "stream",
     "text": [
      "3\n"
     ]
    }
   ],
   "source": [
    "#len(list) 获取列表的长度\n",
    "length=len(mylist)\n",
    "print(length)\n"
   ]
  },
  {
   "cell_type": "code",
   "execution_count": 32,
   "id": "b207bda3",
   "metadata": {},
   "outputs": [
    {
     "name": "stdout",
     "output_type": "stream",
     "text": [
      "1.0\n",
      "25\n",
      "44.0\n"
     ]
    }
   ],
   "source": [
    "#数字列表的最值,求和\n",
    "#必须是数字列表,否则会出错\n",
    "#如果有两个数相同,但形式可能不一样,一个是整数,一个是浮点的整数,会返回第一个值\n",
    "mylist=[10,25,1.0,7,1]\n",
    "\n",
    "print(min(mylist))\n",
    "print(max(mylist))\n",
    "print(sum(mylist))"
   ]
  },
  {
   "cell_type": "markdown",
   "id": "83d3a45e",
   "metadata": {},
   "source": [
    "### 3.用for循环 遍历整个列表"
   ]
  },
  {
   "cell_type": "code",
   "execution_count": 20,
   "id": "85af2c2c",
   "metadata": {},
   "outputs": [
    {
     "name": "stdout",
     "output_type": "stream",
     "text": [
      "1\n",
      "2\n",
      "3\n",
      "4\n",
      "3\n"
     ]
    }
   ],
   "source": [
    "#使用for循环 不要忘记缩进 和 :\n",
    "\n",
    "mylist=[1,2,3,4,3]\n",
    "for val in mylist:\n",
    "    print(val)"
   ]
  },
  {
   "cell_type": "code",
   "execution_count": 27,
   "id": "7dc84de1",
   "metadata": {},
   "outputs": [
    {
     "name": "stdout",
     "output_type": "stream",
     "text": [
      "1\n",
      "2\n",
      "3\n",
      "4\n",
      "\n",
      "\n",
      "2\n",
      "4\n",
      "6\n",
      "8\n"
     ]
    }
   ],
   "source": [
    "#使用range()来成一列数\n",
    "\n",
    "#从1到4\n",
    "for val in range(1,5) :\n",
    "    print(val)\n",
    "\n",
    "\n",
    "print(\"\\n\")\n",
    "\n",
    "\n",
    "#从2到9 步长为2\n",
    "for val in range(2,10,2) :\n",
    "    print(val)"
   ]
  },
  {
   "cell_type": "code",
   "execution_count": 36,
   "id": "6953b4f8",
   "metadata": {},
   "outputs": [
    {
     "name": "stdout",
     "output_type": "stream",
     "text": [
      "[1, 4, 9, 16]\n",
      "[2, 5, 10, 17]\n"
     ]
    }
   ],
   "source": [
    "#快速生成有规律的列表,形式如下\n",
    "#  fastlist=[f(x) for x in range()]\n",
    "\n",
    "fastlist1=[x**2 for x in range(1,5)]\n",
    "print(fastlist1)\n",
    "\n",
    "def my_f(x):\n",
    "    return x**2+1\n",
    "\n",
    "fastlist2=[my_f(x) for x in range(1,5)]\n",
    "print(fastlist2)\n"
   ]
  },
  {
   "cell_type": "markdown",
   "id": "9b47e114",
   "metadata": {},
   "source": [
    "### 4.使用列表的一部分,列表的切片"
   ]
  },
  {
   "cell_type": "code",
   "execution_count": 53,
   "id": "f3b9a429",
   "metadata": {},
   "outputs": [
    {
     "name": "stdout",
     "output_type": "stream",
     "text": [
      "[1, 2, 3]\n",
      "[1, 2, 3]\n",
      "[3, 4, 5]\n",
      "[4, 5]\n",
      "[]\n",
      "[]\n",
      "这是全部切片: [1, 2, 3, 4, 5]\n"
     ]
    }
   ],
   "source": [
    "mylist=[1,2,3,4,5]\n",
    "\n",
    "#得到第0,1,2个\n",
    "somelist=mylist[0:3]\n",
    "print(somelist)\n",
    "\n",
    "#也可以省略起始,或省略结尾\n",
    "somelist=mylist[:3]\n",
    "print(somelist)\n",
    "\n",
    "somelist=mylist[2:]\n",
    "print(somelist)\n",
    "\n",
    "#得到倒数第2,倒数第1\n",
    "somelist=mylist[-2:]\n",
    "print(somelist)\n",
    "\n",
    "#若起始是负数,结尾要么省略,要么是负数; 如果>=0 这样不能得到任何东西\n",
    "print(mylist[-3:0])\n",
    "print(mylist[-3:1])\n"
   ]
  },
  {
   "cell_type": "code",
   "execution_count": 52,
   "id": "c2cebcd7",
   "metadata": {},
   "outputs": [
    {
     "name": "stdout",
     "output_type": "stream",
     "text": [
      "1\n",
      "2\n",
      "3\n"
     ]
    }
   ],
   "source": [
    "#在切片中遍历\n",
    "mylist=[1,2,3,4,5]\n",
    "for val in mylist[0:3]:\n",
    "    print(val)"
   ]
  },
  {
   "cell_type": "code",
   "execution_count": 56,
   "id": "bb273b59",
   "metadata": {},
   "outputs": [
    {
     "name": "stdout",
     "output_type": "stream",
     "text": [
      "[1, 2, 3, 4, 5, 'a']\n",
      "[1, 2, 3, 4, 5, 'b']\n",
      "[1, 2, 3, 4, 5, 'a']\n",
      "[1, 2, 3, 4, 5, 'a']\n"
     ]
    }
   ],
   "source": [
    "#用切片复制列表\n",
    "mylist=[1,2,3,4,5]\n",
    "mylist2=mylist[:]\n",
    "mylist.append(\"a\") #末尾加一个元素\n",
    "mylist2.append(\"b\")\n",
    "print(mylist)\n",
    "print(mylist2)\n",
    "\n",
    "#若不用切片,直接复制,是不行的,这样做只是给一个列表添加了一个别名\n",
    "mylist=[1,2,3,4,5]\n",
    "mylist2=mylist\n",
    "mylist.append(\"a\")\n",
    "\n",
    "print(mylist)\n",
    "print(mylist2)   #会发现 mylist2 也发生了改变"
   ]
  },
  {
   "cell_type": "markdown",
   "id": "292bc38d",
   "metadata": {},
   "source": [
    "### 5.元组"
   ]
  },
  {
   "cell_type": "code",
   "execution_count": 1,
   "id": "caeaa388",
   "metadata": {},
   "outputs": [
    {
     "name": "stdout",
     "output_type": "stream",
     "text": [
      "200\n",
      "(200, 120, 300)\n",
      "200\n",
      "120\n",
      "300\n"
     ]
    }
   ],
   "source": [
    "#元组,用圆括号\n",
    "dimensions=(200,120,300)\n",
    "print(dimensions[0]) #访问元组第0个元素\n",
    "print(dimensions)\n",
    "\n",
    "#也可以用for 循环遍历\n",
    "for d in dimensions :\n",
    "    print(d)"
   ]
  },
  {
   "cell_type": "code",
   "execution_count": 2,
   "id": "69bfdf11",
   "metadata": {},
   "outputs": [
    {
     "ename": "TypeError",
     "evalue": "'tuple' object does not support item assignment",
     "output_type": "error",
     "traceback": [
      "\u001b[1;31m---------------------------------------------------------------------------\u001b[0m",
      "\u001b[1;31mTypeError\u001b[0m                                 Traceback (most recent call last)",
      "Input \u001b[1;32mIn [2]\u001b[0m, in \u001b[0;36m<cell line: 2>\u001b[1;34m()\u001b[0m\n\u001b[0;32m      1\u001b[0m \u001b[38;5;66;03m#不能直接修改元组的元素\u001b[39;00m\n\u001b[1;32m----> 2\u001b[0m dimensions[\u001b[38;5;241m0\u001b[39m]\u001b[38;5;241m=\u001b[39m\u001b[38;5;241m2\u001b[39m\n",
      "\u001b[1;31mTypeError\u001b[0m: 'tuple' object does not support item assignment"
     ]
    }
   ],
   "source": [
    "#不能直接修改元组的元素\n",
    "dimensions[0]=2  #这是被禁止的; 'tuple' object does not support item assignment"
   ]
  },
  {
   "cell_type": "code",
   "execution_count": 3,
   "id": "ea07a1f9",
   "metadata": {},
   "outputs": [
    {
     "name": "stdout",
     "output_type": "stream",
     "text": [
      "(1, 2, 4)\n"
     ]
    }
   ],
   "source": [
    "#但是可以重写整个元组\n",
    "dimensions=(2,3)\n",
    "dimensions=(1,2,4)\n",
    "print(dimensions)"
   ]
  },
  {
   "cell_type": "code",
   "execution_count": 4,
   "id": "89498b63",
   "metadata": {},
   "outputs": [
    {
     "name": "stdout",
     "output_type": "stream",
     "text": [
      "1\n",
      "(1,)\n"
     ]
    }
   ],
   "source": [
    "#若定义一个元组,只含一个元素,下面的写法是不对的\n",
    "dim=(1)  #这是不对的,无法识别为元组,而识别为1\n",
    "print(dim)\n",
    "\n",
    "#单元素的元组,需要加上逗号\n",
    "dim=(1,)\n",
    "print(dim)"
   ]
  },
  {
   "cell_type": "code",
   "execution_count": null,
   "id": "3373ad53",
   "metadata": {},
   "outputs": [],
   "source": []
  }
 ],
 "metadata": {
  "kernelspec": {
   "display_name": "Python 3 (ipykernel)",
   "language": "python",
   "name": "python3"
  },
  "language_info": {
   "codemirror_mode": {
    "name": "ipython",
    "version": 3
   },
   "file_extension": ".py",
   "mimetype": "text/x-python",
   "name": "python",
   "nbconvert_exporter": "python",
   "pygments_lexer": "ipython3",
   "version": "3.9.12"
  }
 },
 "nbformat": 4,
 "nbformat_minor": 5
}
