{
 "cells": [
  {
   "cell_type": "markdown",
   "id": "744b6e13",
   "metadata": {},
   "source": [
    "# 文件和异常"
   ]
  },
  {
   "cell_type": "markdown",
   "id": "befb2bc5",
   "metadata": {},
   "source": [
    "### 1.基本样式"
   ]
  },
  {
   "cell_type": "code",
   "execution_count": 4,
   "id": "68d2b95f",
   "metadata": {},
   "outputs": [
    {
     "name": "stdout",
     "output_type": "stream",
     "text": [
      "3.1415926535\n",
      "  8979323846\n",
      "  2643383279\n"
     ]
    }
   ],
   "source": [
    "with open('./pi.txt') as my_file :\n",
    "    contents=my_file.read()\n",
    "print(contents)"
   ]
  },
  {
   "cell_type": "markdown",
   "id": "dff0cc1d",
   "metadata": {},
   "source": [
    "若路径通常比较长，因此将其赋给一个变量，再将该变量传递给open() 会有所帮助"
   ]
  },
  {
   "cell_type": "markdown",
   "id": "6e0ab2d9",
   "metadata": {},
   "source": [
    "### 2.逐行处理"
   ]
  },
  {
   "cell_type": "code",
   "execution_count": 6,
   "id": "1553145f",
   "metadata": {},
   "outputs": [
    {
     "name": "stdout",
     "output_type": "stream",
     "text": [
      "这是第1行:  3.1415926535\n",
      "\n",
      "这是第2行:    8979323846\n",
      "\n",
      "这是第3行:    2643383279\n"
     ]
    }
   ],
   "source": [
    "file_path='./pi.txt'\n",
    "\n",
    "with open(file_path) as my_file:\n",
    "    k=0\n",
    "    for line in my_file :\n",
    "        k+=1\n",
    "        print(f\"这是第{k}行:  {line}\")"
   ]
  },
  {
   "cell_type": "markdown",
   "id": "a18055df",
   "metadata": {},
   "source": [
    "打印每一行时，发现空白行更多了\n",
    "\n",
    "因为在这个文件中，每行的末尾都有一个看不见的换行符，而函数调用print() 也会加上一个换行符\n",
    "\n",
    "因此每行末尾都有两个换行符：一个来自文件，另一个来自函数调用print() 。\n",
    "\n",
    "要消除这些多余的空白行，可在函数调用print() 中使用rstrip() "
   ]
  },
  {
   "cell_type": "markdown",
   "id": "902ea0b3",
   "metadata": {},
   "source": [
    "通过方法 readlines() 逐行存入列表中"
   ]
  },
  {
   "cell_type": "code",
   "execution_count": 8,
   "id": "6a65d49f",
   "metadata": {},
   "outputs": [
    {
     "name": "stdout",
     "output_type": "stream",
     "text": [
      "['3.1415926535\\n', '  8979323846\\n', '  2643383279']\n"
     ]
    }
   ],
   "source": [
    "with open(file_path) as my_file:\n",
    "    line_list=my_file.readlines()   #readlines()函数将返回一个列表,包含每一行的内容\n",
    "\n",
    "print(line_list)"
   ]
  },
  {
   "cell_type": "code",
   "execution_count": 14,
   "id": "2fe80f70",
   "metadata": {},
   "outputs": [
    {
     "name": "stdout",
     "output_type": "stream",
     "text": [
      "3.141592653589793238462643383279\n",
      "3.14159265\n",
      "3.141592653589793\n"
     ]
    }
   ],
   "source": [
    "#使用这些值\n",
    "my_pi=\"\"\n",
    "for line in line_list :\n",
    "    my_pi+=line.strip()   #用strip()删除末尾的换行符 和 行首的缩进\n",
    "\n",
    "print(my_pi)\n",
    "print(my_pi[:10])   #对于字符串 也可使用切片\n",
    "print(float(my_pi))"
   ]
  },
  {
   "cell_type": "markdown",
   "id": "aaecab38",
   "metadata": {},
   "source": [
    "### 3.写入文件"
   ]
  },
  {
   "cell_type": "markdown",
   "id": "85db255f",
   "metadata": {},
   "source": [
    "打开文件时，可指定读取模式 （'r' ）、写入模式 （'w' ）、附加模式 （'a' ）或读写模式 （'r+' ）\n",
    "\n",
    "默认是读取模式\n",
    "\n",
    "现在目标是写入,就必须加上'w'这个参数\n",
    "\n",
    "如果要写入的文件不存在，函数open() 将自动创建它\n",
    "\n",
    "如果存在，函数open() 将覆盖它,这要格外小心"
   ]
  },
  {
   "cell_type": "code",
   "execution_count": 15,
   "id": "fe4c3552",
   "metadata": {},
   "outputs": [],
   "source": [
    "filename = 'i_love_programming.txt'\n",
    "with open(filename, 'w') as file_object:  # 'w'是写入模式\n",
    "    file_object.write(\"I love programming.\\n\")  # 使用换行符,否则会连在一起\n",
    "    file_object.write(\"I love you.\\n\")"
   ]
  },
  {
   "cell_type": "markdown",
   "id": "b1e35c77",
   "metadata": {},
   "source": [
    "在文件中添加内容,用附加模式'a', 内容添加在末尾"
   ]
  },
  {
   "cell_type": "code",
   "execution_count": 16,
   "id": "9af94b3f",
   "metadata": {},
   "outputs": [],
   "source": [
    "with open(filename, 'a') as file_object:  # 'a'附加模式\n",
    "    file_object.write(\"I like programming.\\n\")  #依然用 write() 函数\n",
    "    file_object.write(\"I like you.\\n\")"
   ]
  },
  {
   "cell_type": "markdown",
   "id": "28002134",
   "metadata": {},
   "source": [
    "### 4.异常"
   ]
  },
  {
   "cell_type": "markdown",
   "id": "cf2dfa1f",
   "metadata": {},
   "source": [
    "常常用try-except 代码块来处理异常"
   ]
  },
  {
   "cell_type": "code",
   "execution_count": 17,
   "id": "cdc1d568",
   "metadata": {},
   "outputs": [
    {
     "name": "stdout",
     "output_type": "stream",
     "text": [
      "不能除以0\n"
     ]
    }
   ],
   "source": [
    "try:\n",
    "    print(5/0)  #这显然会发生错误\n",
    "except ZeroDivisionError: #ZeroDivisionError, 0做除数的错误\n",
    "    print(\"不能除以0\")\n",
    "    "
   ]
  },
  {
   "cell_type": "markdown",
   "id": "51bfa9e4",
   "metadata": {},
   "source": [
    "还可以添加else块,若try成功了,则继续执行else中的代码\n",
    "\n",
    "依赖try 代码块成功执行的代码都应放到else 代码块中,若直接放到外面,当try失败的时候,外面会出错"
   ]
  },
  {
   "cell_type": "code",
   "execution_count": 20,
   "id": "499e913f",
   "metadata": {},
   "outputs": [
    {
     "name": "stdout",
     "output_type": "stream",
     "text": [
      "5\n",
      "0\n",
      "不能除以0\n"
     ]
    }
   ],
   "source": [
    "a = int( input() )\n",
    "b = int( input() )\n",
    "try :\n",
    "    output = a / b \n",
    "except ZeroDivisionError :\n",
    "    print(\"不能除以0\")\n",
    "else :                  #当try中没有问题时,才执行这个不会有问题\n",
    "    print(output)  "
   ]
  },
  {
   "cell_type": "markdown",
   "id": "1a958ca6",
   "metadata": {},
   "source": [
    "使用异常可以避免程序崩溃,特别是循环程序,有时不能因为一个环节而破坏整个循环\n",
    "\n",
    "比如给一个列表求和,若有个元素不是数字,可以处理异常让程序继续"
   ]
  },
  {
   "cell_type": "markdown",
   "id": "ec2a188a",
   "metadata": {},
   "source": [
    "下面介绍FileNotFoundError 异常,文件没有找到的异常"
   ]
  },
  {
   "cell_type": "code",
   "execution_count": 21,
   "id": "5a536140",
   "metadata": {},
   "outputs": [
    {
     "ename": "FileNotFoundError",
     "evalue": "[Errno 2] No such file or directory: 'fuck_you.txt'",
     "output_type": "error",
     "traceback": [
      "\u001b[1;31m---------------------------------------------------------------------------\u001b[0m",
      "\u001b[1;31mFileNotFoundError\u001b[0m                         Traceback (most recent call last)",
      "Input \u001b[1;32mIn [21]\u001b[0m, in \u001b[0;36m<cell line: 2>\u001b[1;34m()\u001b[0m\n\u001b[0;32m      1\u001b[0m file_path\u001b[38;5;241m=\u001b[39m\u001b[38;5;124m'\u001b[39m\u001b[38;5;124mfuck_you.txt\u001b[39m\u001b[38;5;124m'\u001b[39m\n\u001b[1;32m----> 2\u001b[0m \u001b[38;5;28;01mwith\u001b[39;00m \u001b[38;5;28;43mopen\u001b[39;49m\u001b[43m(\u001b[49m\u001b[43mfile_path\u001b[49m\u001b[43m,\u001b[49m\u001b[43mencoding\u001b[49m\u001b[38;5;241;43m=\u001b[39;49m\u001b[38;5;124;43m'\u001b[39;49m\u001b[38;5;124;43mutf-8\u001b[39;49m\u001b[38;5;124;43m'\u001b[39;49m\u001b[43m)\u001b[49m \u001b[38;5;28;01mas\u001b[39;00m myfile:\n\u001b[0;32m      3\u001b[0m     contents\u001b[38;5;241m=\u001b[39mmyfile\u001b[38;5;241m.\u001b[39mread()\n",
      "\u001b[1;31mFileNotFoundError\u001b[0m: [Errno 2] No such file or directory: 'fuck_you.txt'"
     ]
    }
   ],
   "source": [
    "file_path='fuck_you.txt'      #由于没有这个文件,显然后面会出错\n",
    "with open(file_path,encoding='utf-8') as myfile:  #这里指定了打开文件时用的编码'utf-8'\n",
    "    contents=myfile.read()"
   ]
  },
  {
   "cell_type": "code",
   "execution_count": 22,
   "id": "0c83bf3a",
   "metadata": {},
   "outputs": [
    {
     "name": "stdout",
     "output_type": "stream",
     "text": [
      "没找到这个文件\n"
     ]
    }
   ],
   "source": [
    "#改成这样就好了\n",
    "file_path='fuck_you.txt'\n",
    "try :\n",
    "    with open(file_path,encoding='utf-8') as myfile :\n",
    "        contents=myfile.read()\n",
    "except FileNotFoundError :\n",
    "    print(\"没找到这个文件\")"
   ]
  },
  {
   "cell_type": "markdown",
   "id": "aa8fd4b1",
   "metadata": {},
   "source": [
    "分析文本的方法 split()\n",
    "\n",
    "该方法将长字符串,按空格或换行等规则 切分成一个个的单词,并存入一个列表中\n",
    "\n",
    "示例如下\n",
    "\n"
   ]
  },
  {
   "cell_type": "code",
   "execution_count": 26,
   "id": "a1e5612a",
   "metadata": {},
   "outputs": [
    {
     "name": "stdout",
     "output_type": "stream",
     "text": [
      "['这', '是', '一', '段', '长', '文', '本']\n",
      "['this', 'is', 'a', 'long', 'word']\n"
     ]
    }
   ],
   "source": [
    "longstring1 = 'this is a long word'\n",
    "ls_list1 = longstring1.split()\n",
    "print(ls_list1)\n",
    "\n",
    "longstring2 = '这 是 一 段 长 文 本' #该方法对中文识别不好,需要每个字后面有空格\n",
    "ls_list2 = longstring2.split()\n",
    "print(ls_list2)"
   ]
  },
  {
   "cell_type": "markdown",
   "id": "e9a3f611",
   "metadata": {},
   "source": [
    "一个综合的例子"
   ]
  },
  {
   "cell_type": "code",
   "execution_count": null,
   "id": "445ab7aa",
   "metadata": {},
   "outputs": [],
   "source": [
    "path1 = 'test1'\n",
    "path2 = 'test2'\n",
    "path3 = 'test3'\n",
    "FilePath_list = [path1,path2,path3]\n",
    "for path in FilePath_list :\n",
    "    try :\n",
    "        with open(path,encoding='utf-8') as f :\n",
    "            contents = f.read()\n",
    "    except FileNotFoundError :\n",
    "        print(f\"没找到{path}这个文件\")\n",
    "    else :\n",
    "        contents_list=contents.split()\n",
    "        print{f\"{path}有{len(contents_list)}个单词\"}\n",
    "        "
   ]
  },
  {
   "cell_type": "markdown",
   "id": "ac059752",
   "metadata": {},
   "source": [
    "### 5.处理 json文件"
   ]
  },
  {
   "cell_type": "code",
   "execution_count": null,
   "id": "1679dcdb",
   "metadata": {},
   "outputs": [],
   "source": []
  },
  {
   "cell_type": "code",
   "execution_count": null,
   "id": "a129d70f",
   "metadata": {},
   "outputs": [],
   "source": []
  }
 ],
 "metadata": {
  "kernelspec": {
   "display_name": "Python 3 (ipykernel)",
   "language": "python",
   "name": "python3"
  },
  "language_info": {
   "codemirror_mode": {
    "name": "ipython",
    "version": 3
   },
   "file_extension": ".py",
   "mimetype": "text/x-python",
   "name": "python",
   "nbconvert_exporter": "python",
   "pygments_lexer": "ipython3",
   "version": "3.9.12"
  }
 },
 "nbformat": 4,
 "nbformat_minor": 5
}
