{
 "cells": [
  {
   "cell_type": "markdown",
   "id": "c380d635",
   "metadata": {},
   "source": [
    "# 介绍while循环 和 用户输入"
   ]
  },
  {
   "cell_type": "markdown",
   "id": "af32b6de",
   "metadata": {},
   "source": [
    "### 1.input()"
   ]
  },
  {
   "cell_type": "code",
   "execution_count": null,
   "id": "c6031f15",
   "metadata": {},
   "outputs": [],
   "source": [
    "#使用input()来获取输入, 括号里可以写提示语\n",
    "name=input(\"请输入你的名字\\n姓名:\")\n",
    "print(f\"你的名字是{name}\")"
   ]
  },
  {
   "cell_type": "code",
   "execution_count": null,
   "id": "87db54b8",
   "metadata": {},
   "outputs": [],
   "source": [
    "#input() 获取到的输入是字符,即使是数字也是\n",
    "age=input(\"请输入你的年龄\\n年龄:\")\n",
    "print(age)\n",
    "\n",
    "#age=age+1       #这是不行的,因为age是字符,不是数字\n",
    "\n",
    "#需要用int()转化为数字\n",
    "age=int(age)\n",
    "age+=1\n",
    "print(age)"
   ]
  },
  {
   "cell_type": "markdown",
   "id": "e6085d7b",
   "metadata": {},
   "source": [
    "### 2.模运算"
   ]
  },
  {
   "cell_type": "code",
   "execution_count": null,
   "id": "cae5e4ec",
   "metadata": {},
   "outputs": [],
   "source": [
    "# 7在模3下的值,应该是1\n",
    "print(7%3)\n"
   ]
  },
  {
   "cell_type": "markdown",
   "id": "7612c783",
   "metadata": {},
   "source": [
    "### 3.while循环"
   ]
  },
  {
   "cell_type": "code",
   "execution_count": null,
   "id": "40cb22dc",
   "metadata": {},
   "outputs": [],
   "source": [
    "#一个标准的 while 如下\n",
    "year=1995\n",
    "while year <= 1999:\n",
    "    print(f\"20世纪{year}\")\n",
    "    year+=1"
   ]
  },
  {
   "cell_type": "markdown",
   "id": "98b0eeb2",
   "metadata": {},
   "source": [
    "while 和 input()结合使用"
   ]
  },
  {
   "cell_type": "code",
   "execution_count": null,
   "id": "f48e2b53",
   "metadata": {},
   "outputs": [],
   "source": [
    "#while 和 input()结合使用\n",
    "stu_list=[]\n",
    "myinput=\"\"  #必须要申明变量,否则无法使用\n",
    "num=1\n",
    "print(\"请输入学生的姓名,输入'quit'退出\")\n",
    "\n",
    "while myinput != \"quit\" :\n",
    "    myinput=input()\n",
    "    stu_list.append(myinput)\n",
    "    \n",
    "    if myinput != \"quit\":  #使用if 防止打印quit\n",
    "        print(f\"\\t第{num}个学生叫做{myinput}\")\n",
    "    num += 1   \n",
    "\n",
    "stu_list.pop() #删除掉\"quit\"\n",
    "print(stu_list)"
   ]
  },
  {
   "cell_type": "markdown",
   "id": "e36c3480",
   "metadata": {},
   "source": [
    "可以更加灵活地使用while\n",
    "\n",
    "while i<=5:\n",
    "\n",
    "这样的语句中,while中后面接上 i<=5 的布尔值\n",
    "\n",
    "可以单独将其提取出来,用flag表示,像下面这样"
   ]
  },
  {
   "cell_type": "code",
   "execution_count": null,
   "id": "5e04b453",
   "metadata": {},
   "outputs": [],
   "source": [
    "flag = True\n",
    "i = 0\n",
    "while flag:\n",
    "    print(i)\n",
    "    i += 1\n",
    "    if i <= 5:\n",
    "        flag = True\n",
    "    else:\n",
    "        flag = False\n"
   ]
  },
  {
   "cell_type": "markdown",
   "id": "2ac05079",
   "metadata": {},
   "source": [
    "使用break和continue 来终止和中断循环"
   ]
  },
  {
   "cell_type": "code",
   "execution_count": null,
   "id": "f5b6cbf7",
   "metadata": {},
   "outputs": [],
   "source": [
    "# break的使用\n",
    "k = 0\n",
    "while True:\n",
    "    k += 1\n",
    "    name = input(f\"输入第{k}个人的姓名\\t\")\n",
    "\n",
    "    if name == \"quit\":\n",
    "        break  # 若输入了\"quit\"则退出while\n",
    "    else:\n",
    "        print(f\"第{k}个人叫{name}\")\n"
   ]
  },
  {
   "cell_type": "code",
   "execution_count": null,
   "id": "87925a2a",
   "metadata": {},
   "outputs": [],
   "source": [
    "#continue 的使用\n",
    "k=0\n",
    "while True:\n",
    "    k+=1\n",
    "    name=input(f\"输入第{k}个人的姓名\\t\")\n",
    "    \n",
    "    if name == \"invalid\":\n",
    "        k-=1\n",
    "        continue  #若输入了\"invalid\"则不打印\n",
    "    elif name == \"quit\":\n",
    "        break\n",
    "    print(f\"第{k}个人叫{name}\")"
   ]
  },
  {
   "cell_type": "markdown",
   "id": "397c691b",
   "metadata": {},
   "source": [
    "使用while 移动列表元素"
   ]
  },
  {
   "cell_type": "code",
   "execution_count": null,
   "id": "e056fa07",
   "metadata": {},
   "outputs": [],
   "source": [
    "mylist1=[1,2,3,4]\n",
    "mylist2=[]\n",
    "while mylist1 : #若mylist1非空,则循环继续\n",
    "    mylist2.append( mylist1.pop() )  #弹出list1 的末尾,并加到list2上\n",
    "print(mylist1)\n",
    "print(mylist2)"
   ]
  },
  {
   "cell_type": "markdown",
   "id": "465f32cd",
   "metadata": {},
   "source": [
    "用while 批量删除列表中的某个值"
   ]
  },
  {
   "cell_type": "code",
   "execution_count": null,
   "id": "a84712a3",
   "metadata": {},
   "outputs": [],
   "source": [
    "mylist=[1,2,3,3,4,5,6]\n",
    "while 3 in mylist :\n",
    "    mylist.remove(3) #该命令只会删除第一个3,因此要用循环删除所有的3\n",
    "print(mylist)"
   ]
  },
  {
   "cell_type": "markdown",
   "id": "fb77f39a",
   "metadata": {},
   "source": [
    "结合使用for 和 input 构筑字典\n",
    "\n",
    "结合使用while 和 input 构筑字典"
   ]
  },
  {
   "cell_type": "code",
   "execution_count": null,
   "id": "e73d3c7b",
   "metadata": {},
   "outputs": [],
   "source": [
    "# 运用for 构建字典\n",
    "stu_info = {}\n",
    "info_list = [\"name\", \"age\", \"grade\"]\n",
    "for key in info_list:\n",
    "    stu_info[key] = input(f\"输入学生的{key}:\\t\")\n",
    "print(stu_info)"
   ]
  },
  {
   "cell_type": "code",
   "execution_count": null,
   "id": "0f703677",
   "metadata": {},
   "outputs": [],
   "source": [
    "# 运用while 构建字典\n",
    "item_dic = {}\n",
    "k = 0\n",
    "print(\"请自定义你的英雄属性\")\n",
    "while True:\n",
    "    k += 1\n",
    "    key = input(f\"输入第{k}条属性名: \")\n",
    "    if key == \"quit\":\n",
    "        break\n",
    "    item_dic[key] = int(input(f\"\\t输入第{k}条属性值,必须是数字: \"))\n",
    "print(\"你的英雄属性如下\")\n",
    "print(item_dic)\n"
   ]
  }
 ],
 "metadata": {
  "kernelspec": {
   "display_name": "Python 3.9.12 ('base')",
   "language": "python",
   "name": "python3"
  },
  "language_info": {
   "codemirror_mode": {
    "name": "ipython",
    "version": 3
   },
   "file_extension": ".py",
   "mimetype": "text/x-python",
   "name": "python",
   "nbconvert_exporter": "python",
   "pygments_lexer": "ipython3",
   "version": "3.9.12"
  },
  "vscode": {
   "interpreter": {
    "hash": "b09ec625f77bf4fd762565a912b97636504ad6ec901eb2d0f4cf5a7de23e1ee5"
   }
  }
 },
 "nbformat": 4,
 "nbformat_minor": 5
}
