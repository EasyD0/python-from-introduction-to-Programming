{
 "cells": [
  {
   "cell_type": "markdown",
   "id": "f8e7e845",
   "metadata": {},
   "source": [
    "# 这是最简单的python"
   ]
  },
  {
   "cell_type": "code",
   "execution_count": 2,
   "id": "c62dc7b5",
   "metadata": {},
   "outputs": [
    {
     "name": "stdout",
     "output_type": "stream",
     "text": [
      "我叫 周杰伦\n",
      "我叫 周杰伦\n"
     ]
    }
   ],
   "source": [
    "#要在字符串中插入变量的值，可在前引号前加上字母f,f是format（设置格式）的简写\n",
    "name=\"周杰伦\"\n",
    "self_intorduction=f\"我叫 {name}\"\n",
    "print(self_intorduction)\n",
    "\n",
    "print(f\"我叫 {name}\")"
   ]
  },
  {
   "cell_type": "code",
   "execution_count": 4,
   "id": "3a9d785c",
   "metadata": {},
   "outputs": [
    {
     "name": "stdout",
     "output_type": "stream",
     "text": [
      "han li\n"
     ]
    }
   ],
   "source": [
    "#如果是比较早期的python版本，则要用如下办法\n",
    "first_name=\"han\"\n",
    "last_name=\"li\"\n",
    "full_name = \"{} {}\".format(first_name, last_name)\n",
    "print(full_name)"
   ]
  },
  {
   "cell_type": "code",
   "execution_count": 3,
   "id": "4233868f",
   "metadata": {},
   "outputs": [
    {
     "name": "stdout",
     "output_type": "stream",
     "text": [
      "ABC\n",
      "abc\n"
     ]
    }
   ],
   "source": [
    "#字符串类，有两个类方法，可以把字母改大写或小写\n",
    "a=\"AbC\"\n",
    "print(a.upper())\n",
    "print(a.lower())"
   ]
  },
  {
   "cell_type": "code",
   "execution_count": 5,
   "id": "569516a3",
   "metadata": {},
   "outputs": [
    {
     "name": "stdout",
     "output_type": "stream",
     "text": [
      "py\n"
     ]
    }
   ],
   "source": [
    "#  rstrip()，  删除字符右边的空白\n",
    "#  lstrip()，  删除字符左边的空白\n",
    "#  strip()，  删除字符两边的空白\n",
    "a=\" py \"\n",
    "print(a.strip())"
   ]
  },
  {
   "cell_type": "code",
   "execution_count": 6,
   "id": "e61fe2d0",
   "metadata": {},
   "outputs": [
    {
     "name": "stdout",
     "output_type": "stream",
     "text": [
      "125\n"
     ]
    }
   ],
   "source": [
    "#指数运算\n",
    "a=5**3\n",
    "print(a)"
   ]
  },
  {
   "cell_type": "code",
   "execution_count": 7,
   "id": "fe8d21d5",
   "metadata": {},
   "outputs": [
    {
     "name": "stdout",
     "output_type": "stream",
     "text": [
      "14000000000\n"
     ]
    }
   ],
   "source": [
    "#书写很大的数时，可使用下划线将其中的数字分组，使其更清晰易读\n",
    "a=14_000_000_000\n",
    "print(a)"
   ]
  },
  {
   "cell_type": "code",
   "execution_count": 8,
   "id": "e70eb32a",
   "metadata": {},
   "outputs": [
    {
     "name": "stdout",
     "output_type": "stream",
     "text": [
      "6\n"
     ]
    }
   ],
   "source": [
    "#同时给多个变量赋值\n",
    "a,b,c=1,2,3\n",
    "print(a+b+c)"
   ]
  },
  {
   "cell_type": "code",
   "execution_count": 11,
   "id": "14f25cf2",
   "metadata": {},
   "outputs": [
    {
     "name": "stdout",
     "output_type": "stream",
     "text": [
      "200\n"
     ]
    }
   ],
   "source": [
    "#用全大写表示某个常量,虽然可以修改，但是作为程序员要遵守规则\n",
    "MY_CONSTANT=100\n",
    "MY_CONSTANT=200\n",
    "print(MY_CONSTANT)"
   ]
  },
  {
   "cell_type": "markdown",
   "id": "c8373966",
   "metadata": {},
   "source": [
    "字符串可以加起来,如下"
   ]
  },
  {
   "cell_type": "code",
   "execution_count": 1,
   "id": "0a1993e5",
   "metadata": {},
   "outputs": [
    {
     "name": "stdout",
     "output_type": "stream",
     "text": [
      "yuan shen\n"
     ]
    }
   ],
   "source": [
    "first_name=\"yuan\"\n",
    "last_name=\"shen\"\n",
    "name=first_name+\" \"+last_name\n",
    "print(name)"
   ]
  }
 ],
 "metadata": {
  "kernelspec": {
   "display_name": "Python 3.9.12 ('base')",
   "language": "python",
   "name": "python3"
  },
  "language_info": {
   "codemirror_mode": {
    "name": "ipython",
    "version": 3
   },
   "file_extension": ".py",
   "mimetype": "text/x-python",
   "name": "python",
   "nbconvert_exporter": "python",
   "pygments_lexer": "ipython3",
   "version": "3.9.12"
  },
  "vscode": {
   "interpreter": {
    "hash": "b09ec625f77bf4fd762565a912b97636504ad6ec901eb2d0f4cf5a7de23e1ee5"
   }
  }
 },
 "nbformat": 4,
 "nbformat_minor": 5
}
