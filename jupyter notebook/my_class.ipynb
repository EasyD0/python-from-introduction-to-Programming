{
 "cells": [
  {
   "cell_type": "markdown",
   "id": "71eb53a8",
   "metadata": {},
   "source": [
    "# class的基础"
   ]
  },
  {
   "cell_type": "markdown",
   "id": "63b11f2a",
   "metadata": {},
   "source": [
    "### 1.基本概念\n",
    "\n",
    "一个简单的类如下"
   ]
  },
  {
   "cell_type": "code",
   "execution_count": 2,
   "id": "ada58030",
   "metadata": {
    "scrolled": true
   },
   "outputs": [
    {
     "name": "stdout",
     "output_type": "stream",
     "text": [
      "我叫傻狗一号,我5岁了\n",
      "傻狗一号在跑\n"
     ]
    }
   ],
   "source": [
    "class Dog:\n",
    "    def __init__(self,name,age): #初始化方法,必须要有的\n",
    "        self.name=name #初始化实例的name和age\n",
    "        self.age=age\n",
    "    \n",
    "    def dog_run(self):\n",
    "        print(f\"{self.name}在跑\")\n",
    "\n",
    "dog1=Dog(\"傻狗一号\",5)  #生成一个实例\n",
    "print(f\"我叫{dog1.name},我{dog1.age}岁了\")  #访问属性\n",
    "dog1.dog_run()  #调用类方法"
   ]
  },
  {
   "cell_type": "markdown",
   "id": "17bcf54d",
   "metadata": {},
   "source": [
    "可以给类的属性指定默认值,这样指定后,在创建实例的时候不能修改它\n",
    "\n",
    "但创建之后,可以在程序后面修改"
   ]
  },
  {
   "cell_type": "code",
   "execution_count": 6,
   "id": "2f5f2d46",
   "metadata": {},
   "outputs": [
    {
     "name": "stdout",
     "output_type": "stream",
     "text": [
      "9\n"
     ]
    }
   ],
   "source": [
    "class player:\n",
    "    def __init__(self,name):   #初始化函数只有一个传入参数\n",
    "        self.name=name\n",
    "        self.grade=0    #在新建实例时,实例的分数默认为0\n",
    "player1=player('高手')\n",
    "player1.name=\"低手\"\n",
    "player1.grade=9\n",
    "\n",
    "print(player1.grade)"
   ]
  },
  {
   "cell_type": "markdown",
   "id": "43d70579",
   "metadata": {},
   "source": [
    "另一种指定默认值的方法,就像给函数参数指定默认值一样,可能更好"
   ]
  },
  {
   "cell_type": "code",
   "execution_count": 9,
   "id": "95221896",
   "metadata": {},
   "outputs": [
    {
     "name": "stdout",
     "output_type": "stream",
     "text": [
      "0\n",
      "player1\n"
     ]
    }
   ],
   "source": [
    "class player:\n",
    "    def __init__(self,name=\"player1\",grade=0):   #指定了默认值grade=0\n",
    "        self.name=name\n",
    "        self.grade=grade\n",
    "    \n",
    "    def change_name(self,name):\n",
    "        if name!=\"\" :\n",
    "            self.name=name\n",
    "            print(\"name changed\")\n",
    "    \n",
    "    def update_grade(self,increasing_value):\n",
    "        if increasing_value > 0:\n",
    "            self.grade+=increasing_value\n",
    "        else :\n",
    "            print(\"error\")\n",
    "            \n",
    "player1=player(\"战神\")\n",
    "player2=player()\n",
    "print(player1.grade)\n",
    "print(player2.name)"
   ]
  },
  {
   "cell_type": "markdown",
   "id": "1842a015",
   "metadata": {},
   "source": [
    "可以通过类方法来修改属性(如果有这样的类方法),也可以直接修改属性(该属性的类型不是私有的)"
   ]
  },
  {
   "cell_type": "code",
   "execution_count": 10,
   "id": "b50602a1",
   "metadata": {},
   "outputs": [
    {
     "name": "stdout",
     "output_type": "stream",
     "text": [
      "战神2\n",
      "name changed\n",
      "2战神\n"
     ]
    }
   ],
   "source": [
    "player1.name=\"战神2\"\n",
    "print(player1.name)\n",
    "\n",
    "player1.change_name(\"2战神\")\n",
    "print(player1.name)"
   ]
  },
  {
   "cell_type": "markdown",
   "id": "48c69af2",
   "metadata": {},
   "source": [
    "python中没有public和private 之类的关键词.\n",
    "\n",
    "因此在class中,函数和变量默认为公开的,若想成为私有的,则在名词前加__\n",
    "\n",
    "例子如下"
   ]
  },
  {
   "cell_type": "code",
   "execution_count": null,
   "id": "b3ae232e",
   "metadata": {},
   "outputs": [],
   "source": [
    "class player:\n",
    "    "
   ]
  },
  {
   "cell_type": "markdown",
   "id": "cd72c4c4",
   "metadata": {},
   "source": [
    "### 2.继承"
   ]
  },
  {
   "cell_type": "markdown",
   "id": "20a905cf",
   "metadata": {},
   "source": [
    "顾名思义,会继承父类的方法,一个典型的继承写法如下"
   ]
  },
  {
   "cell_type": "code",
   "execution_count": 15,
   "id": "abc9fbbc",
   "metadata": {},
   "outputs": [
    {
     "name": "stdout",
     "output_type": "stream",
     "text": [
      "cs_player1\n",
      "name changed\n",
      "新手\n"
     ]
    }
   ],
   "source": [
    "class cs_player(player):  #继承自player\n",
    "    def __init__(self,name=\"cs_player1\",grade=0,money=0) :   #多了一项初始化的属性,并给出全部的默认值\n",
    "        super().__init__(name,grade)   #调用父类的__init__()方法,初始化name和grade\n",
    "                                      #调用父类__init__()时,无法用它的默认值,要在子类方法中给出默认值才可\n",
    "        self.money=money               #初始化money4\n",
    "\n",
    "cs_player1=cs_player()  #创造一个实例,并全用默认值\n",
    "print(cs_player1.name)\n",
    "\n",
    "cs_player1.change_name(\"新手\")  #可以调用父类的方法,因为继承下来了\n",
    "print(cs_player1.name)"
   ]
  },
  {
   "cell_type": "markdown",
   "id": "8898e422",
   "metadata": {},
   "source": [
    "重写父类的方法"
   ]
  },
  {
   "cell_type": "code",
   "execution_count": 19,
   "id": "ee4c4b72",
   "metadata": {},
   "outputs": [
    {
     "name": "stdout",
     "output_type": "stream",
     "text": [
      "change_name ok\n"
     ]
    }
   ],
   "source": [
    "class cs_player(player):\n",
    "    def __init__(self,name=\"cs_player1\",grade=0,money=0) :\n",
    "        super().__init__(name,grade)       \n",
    "        self.money=money\n",
    "    \n",
    "    def change_name(self,name) :  #重写了change_name()\n",
    "        if name!=\"\" :\n",
    "            self.name=name\n",
    "            print(\"change_name ok\")  #与父类不同的地方,提示语不同了\n",
    "\n",
    "cs_player1=cs_player()\n",
    "cs_player1.change_name(\"老手\")"
   ]
  },
  {
   "cell_type": "markdown",
   "id": "6f4e933a",
   "metadata": {},
   "source": [
    "### 3.导入类\n",
    "\n",
    "这和函数的导入是类似的"
   ]
  },
  {
   "cell_type": "code",
   "execution_count": null,
   "id": "5ac35f75",
   "metadata": {},
   "outputs": [],
   "source": [
    "#典型的导入如下\n",
    "from module_name import my_class1,my_class2,...\n",
    "\n",
    "#导入具体的类后,使用时就不需要 模块名 了\n",
    "myclass1=my_class1(a,b)\n",
    "\n",
    "#如果直接导入整个模块,用类的时候还要加上模块名\n",
    "import module_name\n",
    "myclass1=module_name.my_class1(a,b)\n",
    "\n",
    "#导入所有的类\n",
    "from module_name import *\n",
    "\n",
    "#使用别名\n",
    "from module_name import my_class1 as mc1\n"
   ]
  }
 ],
 "metadata": {
  "kernelspec": {
   "display_name": "Python 3.9.12 ('base')",
   "language": "python",
   "name": "python3"
  },
  "language_info": {
   "codemirror_mode": {
    "name": "ipython",
    "version": 3
   },
   "file_extension": ".py",
   "mimetype": "text/x-python",
   "name": "python",
   "nbconvert_exporter": "python",
   "pygments_lexer": "ipython3",
   "version": "3.9.12"
  },
  "vscode": {
   "interpreter": {
    "hash": "b09ec625f77bf4fd762565a912b97636504ad6ec901eb2d0f4cf5a7de23e1ee5"
   }
  }
 },
 "nbformat": 4,
 "nbformat_minor": 5
}
